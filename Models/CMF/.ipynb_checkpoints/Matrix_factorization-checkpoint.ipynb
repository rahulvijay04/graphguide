{
 "cells": [
  {
   "cell_type": "markdown",
   "id": "cf427d9b-85e0-4b6e-9d4f-671fc1696a31",
   "metadata": {},
   "source": [
    "### CMF - Matrix Factorization\n",
    "\n",
    "Baseline"
   ]
  },
  {
   "cell_type": "code",
   "execution_count": 21,
   "id": "8f161fab-847c-4a8f-a28c-de7a47e65e08",
   "metadata": {},
   "outputs": [],
   "source": [
    "# Imports\n",
    "\n",
    "#!pip install cmfrec\n",
    "from cmfrec import CMF_implicit # Collective Matrix Factorization Lib\n",
    "\n",
    "import pandas as pd\n",
    "#from src.evaluator import Evaluator, TrainTestGenerator\n",
    "\n",
    "# data visualization\n",
    "from IPython.core.interactiveshell import InteractiveShell\n",
    "InteractiveShell.ast_node_interactivity = \"all\"\n",
    "pd.set_option('display.max_rows', 4000)"
   ]
  },
  {
   "cell_type": "code",
   "execution_count": 22,
   "id": "96ee9a98-d4f0-4b26-82bc-36dce3fce3da",
   "metadata": {},
   "outputs": [],
   "source": [
    "# Set up data generation class\n",
    "\n",
    "#data_generator = TrainTestGenerator()\n",
    "#interaction_df = data_generator.prepare_data()\n",
    "#interaction_df.head()\n",
    "\n",
    "interaction_df = pd.read_csv(\"data/full_interaction.csv\")"
   ]
  },
  {
   "cell_type": "code",
   "execution_count": 26,
   "id": "ea4c9410-54eb-4da5-871d-8766c45314af",
   "metadata": {},
   "outputs": [],
   "source": [
    "# Set up model class\n",
    "class CMF_recommender:\n",
    "    def __init__(self, k=40):\n",
    "        self.model = CMF_implicit(\n",
    "            k=k,\n",
    "            random_state=1,\n",
    "        )\n",
    "\n",
    "    def fit(self, data: pd.DataFrame):\n",
    "        data = data.copy()\n",
    "\n",
    "        # Binary adjacency matrix (no weights) -- look into this more...line's sketchy -- can we not encode more??\n",
    "        #binary_data = data[data[\"rating_id\"] > 5] \n",
    "        #binary_data[\"rating_id\"] = 1\n",
    "        #print(binary_data.head())\n",
    "        #print(len(binary_data))\n",
    "\n",
    "        # Rename\n",
    "        data = data.rename(columns={\n",
    "            \"user_id\": \"UserId\",\n",
    "            \"item_id\": \"ItemId\",\n",
    "            \"rating_id\": \"Rating\"\n",
    "        })\n",
    "\n",
    "        # Fit\n",
    "        self.model.fit(data)\n",
    "\n",
    "    def recommend(self, user_id, n):\n",
    "        recommendations = self.model.topN(user_id, n=n)\n",
    "        return recommendations"
   ]
  },
  {
   "cell_type": "code",
   "execution_count": 27,
   "id": "eedfda85-44f1-41dd-b53a-9028807e5680",
   "metadata": {},
   "outputs": [
    {
     "name": "stderr",
     "output_type": "stream",
     "text": [
      "/Users/cyprianzander/Desktop/Neural Navigator/neuralnav/lib/python3.9/site-packages/cmfrec/__init__.py:138: UserWarning: Attempting to use more than 1 thread, but package was built without multi-threading support - see the project's GitHub page for more information.\n",
      "  warnings.warn(msg_omp)\n"
     ]
    }
   ],
   "source": [
    "activity_mf = CMF_recommender()\n",
    "activity_mf.fit(interaction_df)"
   ]
  },
  {
   "cell_type": "code",
   "execution_count": 28,
   "id": "be787043-3419-490e-a058-b47bb87e3358",
   "metadata": {},
   "outputs": [
    {
     "data": {
      "text/plain": [
       "array([1119, 1191, 1051, 1175,  886,  847, 1189,  128,  996, 1224,   81,\n",
       "        203,  229,  805,  135,  362,  573, 1150, 1249,  969,  283, 1187,\n",
       "        519,  623,   90,   94,  323, 1228,  463,   17])"
      ]
     },
     "execution_count": 28,
     "metadata": {},
     "output_type": "execute_result"
    },
    {
     "data": {
      "text/plain": [
       "'\\narray([1051, 1119, 1191, 1175,  886,  847, 1189,  128,  996,   81,  203,\\n       1224,  805,  135,  229,  362,  573, 1150, 1249,  969,  283, 1187,\\n        519,  623,   90,   94,  323,  463, 1228,  915])\\n'"
      ]
     },
     "execution_count": 28,
     "metadata": {},
     "output_type": "execute_result"
    }
   ],
   "source": [
    "activity_mf.recommend(15, 30) # recommend 10 items to user 1\n",
    "\n",
    "\n",
    "#array([1051, 1119, 1191, 1175,  886,  847, 1189,  128,  996,   81,  203,\n",
    "#       1224,  805,  135,  229,  362,  573, 1150, 1249,  969,  283, 1187,\n",
    "#        519,  623,   90,   94,  323,  463, 1228,  915])\n",
    "\n",
    "# ^^ at k = 50\n",
    "\n",
    "# test for recall, grid search k"
   ]
  },
  {
   "cell_type": "code",
   "execution_count": 7,
   "id": "bf4ff41e-9f4c-4459-aae9-94b90db41448",
   "metadata": {},
   "outputs": [],
   "source": [
    "evaluator = Evaluator(CMF_recommender, data_generator)"
   ]
  },
  {
   "cell_type": "code",
   "execution_count": null,
   "id": "8bc6f637-3db0-4648-ac23-3a33ac5ab44f",
   "metadata": {},
   "outputs": [],
   "source": [
    "evaluator."
   ]
  },
  {
   "cell_type": "markdown",
   "id": "4e3f65fd-55ef-4021-8e60-54cb9697b6ee",
   "metadata": {},
   "source": [
    "### Extensions\n",
    "\n",
    "Evaluation metrics (not working atm, random seg fault I can't trace) - get recall@k --> This could be used to compare CMF to LGCN later.\n",
    "\n",
    "Recall = True positives / (true positives + false negatives)\n",
    "\n",
    "k-means matrix factorization"
   ]
  }
 ],
 "metadata": {
  "kernelspec": {
   "display_name": "Python 3 (ipykernel)",
   "language": "python",
   "name": "python3"
  },
  "language_info": {
   "codemirror_mode": {
    "name": "ipython",
    "version": 3
   },
   "file_extension": ".py",
   "mimetype": "text/x-python",
   "name": "python",
   "nbconvert_exporter": "python",
   "pygments_lexer": "ipython3",
   "version": "3.9.6"
  }
 },
 "nbformat": 4,
 "nbformat_minor": 5
}

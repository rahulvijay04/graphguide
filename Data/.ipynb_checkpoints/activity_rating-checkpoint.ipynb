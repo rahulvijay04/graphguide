{
 "cells": [
  {
   "cell_type": "markdown",
   "id": "b16b5ea9-1344-453b-becc-e8a5fbf12d86",
   "metadata": {},
   "source": [
    "### Rating Activities\n",
    "\n",
    "INSTRUCTIONS: (this is a bit of a strange activity)\n",
    "1. run all code cells, the last one will open a text input\n",
    "2. start rating activities based on your preferences (1-10) or the preferences for some made up personality profile\n",
    "3. rate at least 20 activities per user, some with 50 or more would also be great\n",
    "4. change the user id from 1 to 2 and repeat the previous process with a new made up personality profile\n",
    "\n",
    "try to create around 5-10 somewhat 'different' users"
   ]
  },
  {
   "cell_type": "code",
   "execution_count": 2,
   "id": "08acc0c3-2c47-4cd9-b0fe-7c509f0a516a",
   "metadata": {},
   "outputs": [],
   "source": [
    "import pandas as pd\n",
    "import numpy as np\n",
    "from IPython.display import display, clear_output\n",
    "import random"
   ]
  },
  {
   "cell_type": "code",
   "execution_count": 3,
   "id": "58bee466-d9c9-4775-abe8-8ffb4b1232bc",
   "metadata": {},
   "outputs": [],
   "source": [
    "data = pd.read_csv('events_and_locations.csv')"
   ]
  },
  {
   "cell_type": "code",
   "execution_count": 4,
   "id": "2dda47d9-ab3a-47a7-bd2c-9063d3001e03",
   "metadata": {},
   "outputs": [],
   "source": [
    "#df=pd.DataFrame(columns=['item_id','user_id', 'rating_id']).to_csv('rated_activities.csv',index=False)"
   ]
  },
  {
   "cell_type": "code",
   "execution_count": 8,
   "id": "fbc89864-d117-4519-af2e-58066a6e8bfb",
   "metadata": {},
   "outputs": [],
   "source": [
    "def display_random_item(user_rating_count):\n",
    "    global current_item\n",
    "    current_element = data.sample().iloc[0]\n",
    "    current_title = current_element[\"title\"]\n",
    "    current_cat = current_element[\"category\"]\n",
    "    current_item = current_element[0]\n",
    "    current_link = current_element[\"link\"]\n",
    "    display(current_title)\n",
    "    display(current_cat)\n",
    "    display(current_link)\n",
    "    display(f\"User no. of reviews: {user_rating_count}\")"
   ]
  },
  {
   "cell_type": "code",
   "execution_count": 9,
   "id": "94465405-e0d4-435a-8a97-d8dde97315c1",
   "metadata": {},
   "outputs": [],
   "source": [
    "def save_rating(rating, user_id):\n",
    "    global current_item\n",
    "    rated_item = pd.DataFrame([{\n",
    "        'item_id': current_item,\n",
    "        'user_id': user_id,\n",
    "        'rating_id': rating\n",
    "    }])\n",
    "    \n",
    "    rated_item.to_csv('rated_activities.csv', mode='a', header=False, index=False)"
   ]
  },
  {
   "cell_type": "code",
   "execution_count": 10,
   "id": "350fc9c2-0573-4ad1-98ee-075b46eff1a1",
   "metadata": {},
   "outputs": [],
   "source": [
    "def rate_activity(user_id, user_rating_count):\n",
    "    display_random_item(user_rating_count)\n",
    "    try:\n",
    "        rating = input(\"Enter your rating (1-10), q to quit, s to skip: \")\n",
    "        if rating == \"q\":\n",
    "            return\n",
    "        elif rating != \"s\":\n",
    "            rating_int = int(rating)\n",
    "            while rating_int < 1 or rating_int > 10:\n",
    "                print(\"Rating must be between 1 and 10.\")\n",
    "                rating_int = int(input(\"Enter your rating (1-10): \"))\n",
    "            save_rating(rating_int, user_id)\n",
    "        clear_output()\n",
    "        rate_activity(user_id, user_rating_count += 1)\n",
    "    except ValueError:\n",
    "        print(\"Please enter a valid integer.\")\n",
    "        rate_activity(user_id, user_rating_count += 1)"
   ]
  },
  {
   "cell_type": "code",
   "execution_count": 11,
   "id": "01e564f6-5395-45bc-baef-3d52b5823bb8",
   "metadata": {},
   "outputs": [
    {
     "ename": "TypeError",
     "evalue": "rate_activity() missing 1 required positional argument: 'user_rating_count'",
     "output_type": "error",
     "traceback": [
      "\u001b[0;31m---------------------------------------------------------------------------\u001b[0m",
      "\u001b[0;31mTypeError\u001b[0m                                 Traceback (most recent call last)",
      "Cell \u001b[0;32mIn[11], line 3\u001b[0m\n\u001b[1;32m      1\u001b[0m user_id \u001b[38;5;241m=\u001b[39m \u001b[38;5;241m1\u001b[39m\n\u001b[0;32m----> 3\u001b[0m \u001b[43mrate_activity\u001b[49m\u001b[43m(\u001b[49m\u001b[43muser_id\u001b[49m\u001b[43m,\u001b[49m\u001b[43m \u001b[49m\u001b[38;5;241;43m0\u001b[39;49m\u001b[43m)\u001b[49m\n",
      "Cell \u001b[0;32mIn[10], line 14\u001b[0m, in \u001b[0;36mrate_activity\u001b[0;34m(user_id, user_rating_count)\u001b[0m\n\u001b[1;32m     12\u001b[0m         save_rating(rating_int, user_id)\n\u001b[1;32m     13\u001b[0m     clear_output()\n\u001b[0;32m---> 14\u001b[0m     \u001b[43mrate_activity\u001b[49m\u001b[43m(\u001b[49m\u001b[43muser_id\u001b[49m\u001b[43m)\u001b[49m\n\u001b[1;32m     15\u001b[0m \u001b[38;5;28;01mexcept\u001b[39;00m \u001b[38;5;167;01mValueError\u001b[39;00m:\n\u001b[1;32m     16\u001b[0m     \u001b[38;5;28mprint\u001b[39m(\u001b[38;5;124m\"\u001b[39m\u001b[38;5;124mPlease enter a valid integer.\u001b[39m\u001b[38;5;124m\"\u001b[39m)\n",
      "\u001b[0;31mTypeError\u001b[0m: rate_activity() missing 1 required positional argument: 'user_rating_count'"
     ]
    }
   ],
   "source": [
    "user_id = 1\n",
    "\n",
    "rate_activity(user_id, 0)"
   ]
  },
  {
   "cell_type": "code",
   "execution_count": null,
   "id": "efd74132-1e9d-497e-b37a-62882ba25245",
   "metadata": {},
   "outputs": [],
   "source": []
  }
 ],
 "metadata": {
  "kernelspec": {
   "display_name": "neuralnav",
   "language": "python",
   "name": "neuralnav"
  },
  "language_info": {
   "codemirror_mode": {
    "name": "ipython",
    "version": 3
   },
   "file_extension": ".py",
   "mimetype": "text/x-python",
   "name": "python",
   "nbconvert_exporter": "python",
   "pygments_lexer": "ipython3",
   "version": "3.9.6"
  }
 },
 "nbformat": 4,
 "nbformat_minor": 5
}

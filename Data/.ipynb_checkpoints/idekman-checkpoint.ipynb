{
 "cells": [
  {
   "cell_type": "code",
   "execution_count": 118,
   "id": "4056218e-6785-49bf-8098-f949a6e99e8d",
   "metadata": {
    "scrolled": true
   },
   "outputs": [
    {
     "name": "stdout",
     "output_type": "stream",
     "text": [
      "Age: 33\n",
      "Gender: male\n",
      "Relationship: false\n",
      "Interests: reading fiction, reading nonfiction\n"
     ]
    }
   ],
   "source": [
    "import numpy as np\n",
    "import random\n",
    "\n",
    "age = int(np.abs(np.random.normal())*20) + 16\n",
    "gender = random.choice([\"female\", \"female\", \"female\", \"female\", \"female\", \"female\", \"male\", \"male\", \"male\", \"male\", \"male\", \"male\", \"diverse\"])\n",
    "interest1, interest2 = random.choice(\"reading nonfiction, reading fiction, reading, soccer, tennis, football, basketball, running, sightseeing, travel, partying, drinking\".split(\", \")), random.choice([\"reading nonfiction\"])\n",
    "relationship = random.choice([\"true\", \"false\"])\n",
    "\n",
    "print(\"Age:\", age)\n",
    "print(\"Gender:\", gender)\n",
    "print(\"Relationship:\", relationship)\n",
    "print(\"Interests: {}, {}\".format(interest1, interest2))"
   ]
  },
  {
   "cell_type": "code",
   "execution_count": null,
   "id": "c25ae806-5268-49df-bf4d-5dd97b3bb120",
   "metadata": {},
   "outputs": [],
   "source": []
  },
  {
   "cell_type": "code",
   "execution_count": null,
   "id": "7a75b93e-f83b-412f-a2e7-16f08c84951b",
   "metadata": {},
   "outputs": [],
   "source": []
  }
 ],
 "metadata": {
  "kernelspec": {
   "display_name": "Python 3 (ipykernel)",
   "language": "python",
   "name": "python3"
  },
  "language_info": {
   "codemirror_mode": {
    "name": "ipython",
    "version": 3
   },
   "file_extension": ".py",
   "mimetype": "text/x-python",
   "name": "python",
   "nbconvert_exporter": "python",
   "pygments_lexer": "ipython3",
   "version": "3.9.6"
  }
 },
 "nbformat": 4,
 "nbformat_minor": 5
}

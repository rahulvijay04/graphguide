{
 "cells": [
  {
   "cell_type": "markdown",
   "id": "b16b5ea9-1344-453b-becc-e8a5fbf12d86",
   "metadata": {},
   "source": [
    "### Rating Activities\n",
    "\n",
    "INSTRUCTIONS: (this is a bit of a strange activity)\n",
    "1. run all code cells, the last one will open a text input\n",
    "2. start rating activities based on your preferences (1-10) or the preferences for some made up personality profile\n",
    "3. rate at least 20 activities per user, some with 50 or more would also be great\n",
    "4. change the user id from 1 to 2 and repeat the previous process with a new made up personality profile\n",
    "\n",
    "try to create around 5-10 somewhat 'different' users"
   ]
  },
  {
   "cell_type": "code",
   "execution_count": 12,
   "id": "08acc0c3-2c47-4cd9-b0fe-7c509f0a516a",
   "metadata": {},
   "outputs": [],
   "source": [
    "import pandas as pd\n",
    "import numpy as np\n",
    "from IPython.display import display, clear_output\n",
    "import random"
   ]
  },
  {
   "cell_type": "code",
   "execution_count": 13,
   "id": "58bee466-d9c9-4775-abe8-8ffb4b1232bc",
   "metadata": {},
   "outputs": [],
   "source": [
    "data = pd.read_csv('events_and_locations.csv')"
   ]
  },
  {
   "cell_type": "code",
   "execution_count": 14,
   "id": "2dda47d9-ab3a-47a7-bd2c-9063d3001e03",
   "metadata": {},
   "outputs": [],
   "source": [
    "#df=pd.DataFrame(columns=['item_id','user_id', 'rating_id']).to_csv('rated_activities.csv',index=False)"
   ]
  },
  {
   "cell_type": "code",
   "execution_count": 15,
   "id": "fbc89864-d117-4519-af2e-58066a6e8bfb",
   "metadata": {},
   "outputs": [],
   "source": [
    "def display_random_item(user_rating_count):\n",
    "    global current_item\n",
    "    current_element = data.sample().iloc[0]\n",
    "    current_title = current_element[\"title\"]\n",
    "    current_cat = current_element[\"category\"]\n",
    "    current_item = current_element[0]\n",
    "    current_link = current_element[\"link\"]\n",
    "    display(current_title)\n",
    "    display(current_cat)\n",
    "    display(current_link)\n",
    "    display(f\"User no. of reviews: {user_rating_count}\")"
   ]
  },
  {
   "cell_type": "code",
   "execution_count": 16,
   "id": "94465405-e0d4-435a-8a97-d8dde97315c1",
   "metadata": {},
   "outputs": [],
   "source": [
    "def save_rating(rating, user_id):\n",
    "    global current_item\n",
    "    rated_item = pd.DataFrame([{\n",
    "        'item_id': current_item,\n",
    "        'user_id': user_id,\n",
    "        'rating_id': rating\n",
    "    }])\n",
    "    \n",
    "    rated_item.to_csv('rated_activities.csv', mode='a', header=False, index=False)"
   ]
  },
  {
   "cell_type": "code",
   "execution_count": 18,
   "id": "350fc9c2-0573-4ad1-98ee-075b46eff1a1",
   "metadata": {},
   "outputs": [],
   "source": [
    "def rate_activity(user_id, user_rating_count):\n",
    "    display_random_item(user_rating_count)\n",
    "    try:\n",
    "        rating = input(\"Enter your rating (1-10), q to quit, s to skip: \")\n",
    "        if rating == \"q\":\n",
    "            return\n",
    "        elif rating != \"s\":\n",
    "            rating_int = int(rating)\n",
    "            while rating_int < 1 or rating_int > 10:\n",
    "                print(\"Rating must be between 1 and 10.\")\n",
    "                rating_int = int(input(\"Enter your rating (1-10): \"))\n",
    "            save_rating(rating_int, user_id)\n",
    "        clear_output()\n",
    "        rate_activity(user_id, user_rating_count + 1)\n",
    "    except ValueError:\n",
    "        print(\"Please enter a valid integer.\")\n",
    "        rate_activity(user_id, user_rating_count + 1)"
   ]
  },
  {
   "cell_type": "code",
   "execution_count": 21,
   "id": "476f6b57-d25c-4a21-9c7f-8df6e6e59c13",
   "metadata": {},
   "outputs": [
    {
     "data": {
      "text/plain": [
       "'Rich Kids on LSD (RKL)'"
      ]
     },
     "metadata": {},
     "output_type": "display_data"
    },
    {
     "data": {
      "text/plain": [
       "'Event'"
      ]
     },
     "metadata": {},
     "output_type": "display_data"
    },
    {
     "data": {
      "text/plain": [
       "'http://sf-events.brokeassstuart.com/events/2024/5/1/rich-kids-on-lsd-rkl-tickets'"
      ]
     },
     "metadata": {},
     "output_type": "display_data"
    },
    {
     "data": {
      "text/plain": [
       "'User no. of reviews: 113'"
      ]
     },
     "metadata": {},
     "output_type": "display_data"
    },
    {
     "name": "stdin",
     "output_type": "stream",
     "text": [
      "Enter your rating (1-10), q to quit, s to skip:  q\n"
     ]
    }
   ],
   "source": [
    "user_id = 2\n",
    "rate_activity(user_id, 0)"
   ]
  },
  {
   "cell_type": "code",
   "execution_count": null,
   "id": "efd74132-1e9d-497e-b37a-62882ba25245",
   "metadata": {},
   "outputs": [],
   "source": []
  }
 ],
 "metadata": {
  "kernelspec": {
   "display_name": "neuralnav",
   "language": "python",
   "name": "neuralnav"
  },
  "language_info": {
   "codemirror_mode": {
    "name": "ipython",
    "version": 3
   },
   "file_extension": ".py",
   "mimetype": "text/x-python",
   "name": "python",
   "nbconvert_exporter": "python",
   "pygments_lexer": "ipython3",
   "version": "3.9.6"
  }
 },
 "nbformat": 4,
 "nbformat_minor": 5
}

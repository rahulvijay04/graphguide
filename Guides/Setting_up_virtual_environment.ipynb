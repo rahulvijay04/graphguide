{
 "cells": [
  {
   "cell_type": "markdown",
   "id": "20c9e2b0-ad8b-42bc-b296-46db0462581d",
   "metadata": {},
   "source": [
    "# __Guide__: Setting up and working with GitHub\n",
    "\n",
    "I am not a big fan of latte, so we will be using local machines to work on this project, especially because most of the work does not really require a lot of compute and this offers more flexibility to work with your preferred coding configuration.\n",
    "\n",
    "## Setting up jupyter notebooks with gh repo in it\n",
    "\n",
    "__1. Move to target dir & set up the NeuralNavigator directory__\n",
    "\n",
    "`cd your/target/path/from/root`\n",
    "\n",
    "`mkdir NeuralNavigator`\n",
    "\n",
    "`cd NeuralNavigator`\n",
    "\n",
    "__2. Make the virtual environment__\n",
    " \n",
    "`python -m venv nnenv`\n",
    "\n",
    "`source nnenv/bin/activate`\n",
    "\n",
    "`python -m ipykernel install --user --name=nnenv`\n",
    "\n",
    "__3. Install and run Jupyter Notebook__\n",
    "   \n",
    "`python -m pip install jupyter`\n",
    "\n",
    "`jupyter notebook`\n",
    "\n",
    "__5. Add the GH repo content__\n",
    "\n",
    "`TODO`"
   ]
  },
  {
   "cell_type": "markdown",
   "id": "2942820d-d651-498a-b831-613909d86566",
   "metadata": {},
   "source": [
    "## Updating code before you start something\n",
    "\n",
    "Navigate to directory in terminal\n",
    "\n",
    "`git pull`\n",
    "\n",
    "`jupyter notebook` (to go back to working with jupyter)"
   ]
  },
  {
   "cell_type": "markdown",
   "id": "0c2b7262-f869-4835-9f6b-f22382529eb5",
   "metadata": {},
   "source": [
    "## Push code when you finish something\n",
    "\n",
    "`git add .` (typically)\n",
    "\n",
    "`git commit -m \"a somewhat meaningful message\"`\n",
    "\n",
    "`git push`"
   ]
  }
 ],
 "metadata": {
  "kernelspec": {
   "display_name": "Python 3 (ipykernel)",
   "language": "python",
   "name": "python3"
  },
  "language_info": {
   "codemirror_mode": {
    "name": "ipython",
    "version": 3
   },
   "file_extension": ".py",
   "mimetype": "text/x-python",
   "name": "python",
   "nbconvert_exporter": "python",
   "pygments_lexer": "ipython3",
   "version": "3.12.2"
  }
 },
 "nbformat": 4,
 "nbformat_minor": 5
}
